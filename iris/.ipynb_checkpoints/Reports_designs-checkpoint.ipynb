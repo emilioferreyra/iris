{
 "cells": [
  {
   "cell_type": "markdown",
   "metadata": {},
   "source": [
    "# Diseño de reportes"
   ]
  },
  {
   "cell_type": "markdown",
   "metadata": {},
   "source": [
    "## 1. Reporte de miebros por localidad"
   ]
  },
  {
   "cell_type": "code",
   "execution_count": 75,
   "metadata": {
    "collapsed": true
   },
   "outputs": [],
   "source": [
    "from django.db.models import Count"
   ]
  },
  {
   "cell_type": "code",
   "execution_count": 76,
   "metadata": {
    "collapsed": true
   },
   "outputs": [],
   "source": [
    "from people.models import PersonAddress"
   ]
  },
  {
   "cell_type": "code",
   "execution_count": 77,
   "metadata": {
    "collapsed": false
   },
   "outputs": [],
   "source": [
    "addresses = PersonAddress.objects.filter(person_name__person_type_id=2).exclude(location__isnull=True)"
   ]
  },
  {
   "cell_type": "code",
   "execution_count": 78,
   "metadata": {
    "collapsed": true
   },
   "outputs": [],
   "source": [
    "field = 'location__name'"
   ]
  },
  {
   "cell_type": "code",
   "execution_count": 79,
   "metadata": {
    "collapsed": false
   },
   "outputs": [],
   "source": [
    "queryset = PersonAddress.objects.filter(person_name__person_type_id=2, address_type_id=1).\\\n",
    "    exclude(location__isnull=True).\\\n",
    "    values(field).\\\n",
    "    annotate(total=Count(field)).\\\n",
    "    order_by(\"-total\")\n"
   ]
  },
  {
   "cell_type": "code",
   "execution_count": 60,
   "metadata": {
    "collapsed": false
   },
   "outputs": [
    {
     "name": "stdout",
     "output_type": "stream",
     "text": [
      "Altos de Rafey 3\n",
      "Buenos Aires 1\n",
      "El Ingenio 1\n",
      "Ensanche Roman 1\n",
      "Villa Verde 1\n"
     ]
    }
   ],
   "source": [
    "for obj in queryset:\n",
    "    print obj['location__name'], obj['total']"
   ]
  },
  {
   "cell_type": "markdown",
   "metadata": {},
   "source": [
    "## 2. Reporte de miembros por  nivel académico"
   ]
  },
  {
   "cell_type": "code",
   "execution_count": 61,
   "metadata": {
    "collapsed": true
   },
   "outputs": [],
   "source": [
    "from django.db.models import Count"
   ]
  },
  {
   "cell_type": "code",
   "execution_count": 62,
   "metadata": {
    "collapsed": true
   },
   "outputs": [],
   "source": [
    "from members.models import Member"
   ]
  },
  {
   "cell_type": "code",
   "execution_count": 63,
   "metadata": {
    "collapsed": true
   },
   "outputs": [],
   "source": [
    "field = 'academic_level__name'"
   ]
  },
  {
   "cell_type": "code",
   "execution_count": 64,
   "metadata": {
    "collapsed": true
   },
   "outputs": [],
   "source": [
    "queryset = Member.objects.all().values(field).annotate(total=Count(field)).order_by('-total')"
   ]
  },
  {
   "cell_type": "code",
   "execution_count": 66,
   "metadata": {
    "collapsed": false
   },
   "outputs": [
    {
     "name": "stdout",
     "output_type": "stream",
     "text": [
      "Secundaria 7\n",
      "Universidad 4\n",
      "Primaria 2\n"
     ]
    }
   ],
   "source": [
    "for obj in queryset:\n",
    "    print obj['academic_level__name'], obj['total']"
   ]
  },
  {
   "cell_type": "code",
   "execution_count": 72,
   "metadata": {
    "collapsed": true
   },
   "outputs": [],
   "source": [
    "addresses = PersonAddress.objects.filter(person_name__person_type_id=2, address_type_id=1)"
   ]
  },
  {
   "cell_type": "code",
   "execution_count": 73,
   "metadata": {
    "collapsed": false
   },
   "outputs": [
    {
     "data": {
      "text/plain": [
       "[<PersonAddress:   calle duarte # 34>, <PersonAddress:   calle colón #45>, <PersonAddress:   calle duarte # 34>, <PersonAddress:   calle Francisco gonzales #45>, <PersonAddress:   jbjbnknlnklnlkn.n.,mn.,mn>, <PersonAddress:   calle Francisco gonzales #45>, <PersonAddress:   calle Francisco gonzales #45>, <PersonAddress: 34 4-C calle duarte # 34>, <PersonAddress: 5 3-A calle duarte # 34>, <PersonAddress:   calle duarte # 34>, <PersonAddress:   calle colón #45>, <PersonAddress:   Duarte # 78>, <PersonAddress: La Mamba 8b 8>]"
      ]
     },
     "execution_count": 73,
     "metadata": {},
     "output_type": "execute_result"
    }
   ],
   "source": [
    "addresses"
   ]
  },
  {
   "cell_type": "markdown",
   "metadata": {},
   "source": [
    "## 3. Miembros madres"
   ]
  },
  {
   "cell_type": "code",
   "execution_count": 96,
   "metadata": {
    "collapsed": true
   },
   "outputs": [],
   "source": [
    "from members.models import Member"
   ]
  },
  {
   "cell_type": "code",
   "execution_count": 97,
   "metadata": {
    "collapsed": true
   },
   "outputs": [],
   "source": [
    "from django.db.models import Count"
   ]
  },
  {
   "cell_type": "code",
   "execution_count": 98,
   "metadata": {
    "collapsed": true
   },
   "outputs": [],
   "source": [
    "field = 'marital_status__name'"
   ]
  },
  {
   "cell_type": "code",
   "execution_count": 103,
   "metadata": {
    "collapsed": true
   },
   "outputs": [],
   "source": [
    "mothers_by_marital_status = Member.objects.filter(is_mother=True).\\\n",
    "    values(field).\\\n",
    "    annotate(total=Count(field)).\\\n",
    "    order_by('-total')"
   ]
  },
  {
   "cell_type": "code",
   "execution_count": 105,
   "metadata": {
    "collapsed": false
   },
   "outputs": [
    {
     "name": "stdout",
     "output_type": "stream",
     "text": [
      "Casado(a) 2\n",
      "Soltero(a) 2\n",
      "Viudo(a) 2\n"
     ]
    }
   ],
   "source": [
    "for m in mothers_by_marital_status:\n",
    "    print m['marital_status__name'], m['total']"
   ]
  },
  {
   "cell_type": "code",
   "execution_count": null,
   "metadata": {
    "collapsed": true
   },
   "outputs": [],
   "source": []
  },
  {
   "cell_type": "code",
   "execution_count": null,
   "metadata": {
    "collapsed": false
   },
   "outputs": [],
   "source": []
  },
  {
   "cell_type": "code",
   "execution_count": null,
   "metadata": {
    "collapsed": true
   },
   "outputs": [],
   "source": []
  }
 ],
 "metadata": {
  "kernelspec": {
   "display_name": "Django Shell-Plus",
   "language": "python",
   "name": "django_extensions"
  },
  "language_info": {
   "codemirror_mode": {
    "name": "ipython",
    "version": 2
   },
   "file_extension": ".py",
   "mimetype": "text/x-python",
   "name": "python",
   "nbconvert_exporter": "python",
   "pygments_lexer": "ipython2",
   "version": "2.7.11+"
  }
 },
 "nbformat": 4,
 "nbformat_minor": 0
}
