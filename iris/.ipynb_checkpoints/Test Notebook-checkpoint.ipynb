{
 "cells": [
  {
   "cell_type": "code",
   "execution_count": 1,
   "metadata": {
    "collapsed": true
   },
   "outputs": [],
   "source": [
    "from people.models import PersonAddress"
   ]
  },
  {
   "cell_type": "code",
   "execution_count": 2,
   "metadata": {
    "collapsed": true
   },
   "outputs": [],
   "source": [
    "address = PersonAddress.objects.all()"
   ]
  },
  {
   "cell_type": "code",
   "execution_count": 5,
   "metadata": {
    "collapsed": false
   },
   "outputs": [
    {
     "name": "stdout",
     "output_type": "stream",
     "text": [
      "La Lomota\n",
      "None\n",
      "None\n",
      "Las palomas\n",
      "None\n",
      "None\n",
      "None\n",
      "None\n",
      "Ensanche Roman\n",
      "Buenos Aires\n",
      "Altos de Rafey\n",
      "Altos de Rafey\n",
      "None\n",
      "Villa Verde\n",
      "Altos de Rafey\n",
      "Ensanche Roman\n",
      "Buenos Aires\n",
      "Altos de Rafey\n",
      "Altos de Rafey\n",
      "Urbanización Fernando Valerio\n",
      "Urbanización Fernando Valerio\n",
      "El Embrujo III\n"
     ]
    }
   ],
   "source": [
    "for a in address:\n",
    "    print a.location"
   ]
  },
  {
   "cell_type": "code",
   "execution_count": 1,
   "metadata": {
    "collapsed": true
   },
   "outputs": [],
   "source": [
    "from members.models import Member"
   ]
  },
  {
   "cell_type": "code",
   "execution_count": 1,
   "metadata": {
    "collapsed": false
   },
   "outputs": [
    {
     "name": "stdout",
     "output_type": "stream",
     "text": [
      "[u'dependent_of_id', 'father_last_name', 'children_quantity', 'house', 'mother_last_name', 'member_number', 'where_work', 'person_type', 'names', 'nationality', 'currently_works', u'nationality_id', u'id', 'occupation', 'cane_number', 'dependent_of', 'modified_with_session_key', 'personaddress', 'created_by', 'personphone', 'created_with_session_key', u'modified_by_id', 'academic_level', u'person_type_id', 'document_id', 'email', 'observations', 'status', 'picture', 'appointment', u'kinship_id', 'is_mother', u'person_ptr_id', u'document_type_id', 'main_location', 'birthday', u'main_location_id', 'modified_by', 'document_type', u'marital_status_id', u'cane_number_id', 'created', 'gender', 'age', 'marital_status', 'modified', u'academic_level_id', 'health_insurance', 'person', u'person_ptr', 'diagnosis', u'created_by_id', 'kinship']\n"
     ]
    }
   ],
   "source": [
    "print Member._meta.get_all_field_names()"
   ]
  },
  {
   "cell_type": "code",
   "execution_count": null,
   "metadata": {
    "collapsed": true
   },
   "outputs": [],
   "source": []
  }
 ],
 "metadata": {
  "kernelspec": {
   "display_name": "Django Shell-Plus",
   "language": "python",
   "name": "django_extensions"
  },
  "language_info": {
   "codemirror_mode": {
    "name": "ipython",
    "version": 2
   },
   "file_extension": ".py",
   "mimetype": "text/x-python",
   "name": "python",
   "nbconvert_exporter": "python",
   "pygments_lexer": "ipython2",
   "version": "2.7.12"
  }
 },
 "nbformat": 4,
 "nbformat_minor": 2
}
