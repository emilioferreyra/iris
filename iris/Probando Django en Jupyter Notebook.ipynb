{
 "cells": [
  {
   "cell_type": "markdown",
   "metadata": {},
   "source": [
    "# Probando Django en Jupyter Notebook"
   ]
  },
  {
   "cell_type": "code",
   "execution_count": 1,
   "metadata": {
    "collapsed": false
   },
   "outputs": [],
   "source": [
    "from people.models import Person"
   ]
  },
  {
   "cell_type": "code",
   "execution_count": 21,
   "metadata": {
    "collapsed": false
   },
   "outputs": [
    {
     "name": "stdout",
     "output_type": "stream",
     "text": [
      "1 Alejandro Martinez \n",
      "2 Angel Manuel Rodriguez \n",
      "3 José Ramón Contreras \n",
      "4 Juan Manuel De la Rosa \n",
      "5 Juana María Santos \n",
      "6 María José Rosario Almonte\n"
     ]
    }
   ],
   "source": [
    "for x, p in enumerate(Person.employees.order_by('names')):\n",
    "    print x+1, p"
   ]
  },
  {
   "cell_type": "code",
   "execution_count": 3,
   "metadata": {
    "collapsed": true
   },
   "outputs": [],
   "source": [
    "employees = Person.employees.all()"
   ]
  },
  {
   "cell_type": "code",
   "execution_count": 4,
   "metadata": {
    "collapsed": false
   },
   "outputs": [
    {
     "name": "stdout",
     "output_type": "stream",
     "text": [
      "1 Juan Manuel De la Rosa \n",
      "2 Angel Manuel Rodriguez \n",
      "3 María José Rosario Almonte\n",
      "4 Juana María Santos \n",
      "5 José Ramón Contreras \n",
      "6 Alejandro Martinez \n"
     ]
    }
   ],
   "source": [
    "for x, e in enumerate(employees):\n",
    "    print x+1, e"
   ]
  },
  {
   "cell_type": "code",
   "execution_count": 23,
   "metadata": {
    "collapsed": true
   },
   "outputs": [],
   "source": [
    "members = Person.members.order_by('names')"
   ]
  },
  {
   "cell_type": "code",
   "execution_count": 24,
   "metadata": {
    "collapsed": false
   },
   "outputs": [
    {
     "name": "stdout",
     "output_type": "stream",
     "text": [
      "1 Amalfy Eugenia Mendosa \n",
      "2 Cristina María Fernandez \n",
      "3 Gloria María Encarnación \n",
      "4 Juan Valdez \n",
      "5 Marcos Eugenio Mendez \n",
      "6 Marta Santos \n",
      "7 Orfilia Diaz \n",
      "8 Pablo García \n",
      "9 Ramona Altagracia Contreras \n",
      "10 Rosa Emilia Perez Martinez\n",
      "11 Vladimir Oscar Gonzalez \n",
      "12 Víctor Manuel Ceballos \n",
      "13 Wanda Gonzalez \n"
     ]
    }
   ],
   "source": [
    "for x, m in enumerate(members):\n",
    "    print x+1, m"
   ]
  },
  {
   "cell_type": "code",
   "execution_count": 25,
   "metadata": {
    "collapsed": false
   },
   "outputs": [
    {
     "name": "stdout",
     "output_type": "stream",
     "text": [
      "1 Amalfy Eugenia Mendosa \n",
      "2 Cristina María Fernandez \n",
      "3 Gloria María Encarnación \n",
      "4 Juan Valdez \n",
      "5 Marcos Eugenio Mendez \n",
      "6 Marta Santos \n",
      "7 Orfilia Diaz \n",
      "8 Pablo García \n",
      "9 Ramona Altagracia Contreras \n",
      "10 Rosa Emilia Perez Martinez\n",
      "11 Vladimir Oscar Gonzalez \n",
      "12 Víctor Manuel Ceballos \n",
      "13 Wanda Gonzalez \n"
     ]
    }
   ],
   "source": [
    "for x, m in enumerate(members):\n",
    "    print x+1, m"
   ]
  },
  {
   "cell_type": "code",
   "execution_count": 9,
   "metadata": {
    "collapsed": true
   },
   "outputs": [],
   "source": [
    "from members.admin import MemberResource"
   ]
  },
  {
   "cell_type": "code",
   "execution_count": 10,
   "metadata": {
    "collapsed": true
   },
   "outputs": [],
   "source": [
    "dataset = MemberResource().export()"
   ]
  },
  {
   "cell_type": "code",
   "execution_count": 11,
   "metadata": {
    "collapsed": false
   },
   "outputs": [
    {
     "name": "stdout",
     "output_type": "stream",
     "text": [
      "names,father_last_name,mother_last_name,gender,birth_day,document_id,email,status,member_number,academic_level__name,nationality__name,marital_status__name,document_type__name\r\n",
      "Juan,Valdez,,M,1976-06-18,000-000000-0,,1,13,Secundaria, Dominicano,Soltero(a),Cédula\r\n",
      "Orfilia,Diaz,,F,1965-02-06,000-0000000-0,odiaz@hotmail.com,1,12,Universidad, Hondureño,Casado(a),Pasaporte\r\n",
      "Wanda,Gonzalez,,F,1974-02-15,000-0000000-0,,1,11,Secundaria, Dominicano,Soltero(a),Cédula\r\n",
      "Marta,Santos,,F,1975-02-15,000-0000000-0,,1,10,Secundaria, Dominicano,Soltero(a),Cédula\r\n",
      "Cristina María,Fernandez,,F,1978-02-15,000-0000000-0,,1,9,Universidad, Dominicano,Casado(a),Cédula\r\n",
      "Rosa Emilia,Perez,Martinez,F,1978-02-15,000-0000000-0,,1,8,Secundaria, Dominicano,Soltero(a),Cédula\r\n",
      "Gloria María,Encarnación,,F,1950-02-15,000-0000000-0,gencarnacion@gmail.com,1,7,Primaria, Dominicano,Viudo(a),Cédula\r\n",
      "Marcos Eugenio,Mendez,,M,1989-02-06,000-0000000-0,,1,6,Secundaria, Dominicano,Divorsiado(a),Cédula\r\n",
      "Víctor Manuel,Ceballos,,M,1974-02-05,000-0000000-0,,1,5,Primaria, Dominicano,Soltero(a),Cédula\r\n",
      "Vladimir Oscar,Gonzalez,,M,1975-02-05,000-0000000-0,,1,4,Secundaria, Dominicano,Casado(a),Cédula\r\n",
      "Amalfy Eugenia,Mendosa,,F,2000-02-03,000-0000000-0,,1,3,Universidad, Dominicano,Soltero(a),Cédula\r\n",
      "Pablo,García,,M,1999-01-31,000-0000000-0,pablogarcia@hotmail.com,1,2,Secundaria, Haitiano,Casado(a),Cédula\r\n",
      "Ramona Altagracia,Contreras,,F,1950-07-27,000-0000000-0,,0,1,Universidad, Dominicano,Viudo(a),Cédula\r\n",
      "\n"
     ]
    }
   ],
   "source": [
    "print dataset.csv"
   ]
  },
  {
   "cell_type": "code",
   "execution_count": 12,
   "metadata": {
    "collapsed": true
   },
   "outputs": [],
   "source": [
    "from people.models import PersonAddress"
   ]
  },
  {
   "cell_type": "code",
   "execution_count": 13,
   "metadata": {
    "collapsed": false
   },
   "outputs": [],
   "source": [
    "addresses = PersonAddress.objects.exclude(location__isnull=True)"
   ]
  },
  {
   "cell_type": "code",
   "execution_count": 14,
   "metadata": {
    "collapsed": false
   },
   "outputs": [
    {
     "name": "stdout",
     "output_type": "stream",
     "text": [
      "1 La Lomota\n",
      "2 Las palomas\n",
      "3 Ensanche Roman\n",
      "4 Buenos Aires\n",
      "5 Altos de Rafey\n",
      "6 Altos de Rafey\n",
      "7 Villa Verde\n",
      "8 Altos de Rafey\n",
      "9 Ensanche Roman\n",
      "10 Buenos Aires\n",
      "11 El Ingenio\n",
      "12 Altos de Rafey\n"
     ]
    }
   ],
   "source": [
    "for x, a in enumerate(addresses):\n",
    "    print x+1, a.location"
   ]
  },
  {
   "cell_type": "code",
   "execution_count": null,
   "metadata": {
    "collapsed": true
   },
   "outputs": [],
   "source": []
  }
 ],
 "metadata": {
  "kernelspec": {
   "display_name": "Django Shell-Plus",
   "language": "python",
   "name": "django_extensions"
  },
  "language_info": {
   "codemirror_mode": {
    "name": "ipython",
    "version": 2
   },
   "file_extension": ".py",
   "mimetype": "text/x-python",
   "name": "python",
   "nbconvert_exporter": "python",
   "pygments_lexer": "ipython2",
   "version": "2.7.12"
  }
 },
 "nbformat": 4,
 "nbformat_minor": 0
}
