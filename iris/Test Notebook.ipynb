{
 "cells": [
  {
   "cell_type": "code",
   "execution_count": 1,
   "metadata": {
    "collapsed": true
   },
   "outputs": [],
   "source": [
    "from people.models import PersonAddress"
   ]
  },
  {
   "cell_type": "code",
   "execution_count": 2,
   "metadata": {
    "collapsed": true
   },
   "outputs": [],
   "source": [
    "address = PersonAddress.objects.all()"
   ]
  },
  {
   "cell_type": "code",
   "execution_count": 5,
   "metadata": {
    "collapsed": false
   },
   "outputs": [
    {
     "name": "stdout",
     "output_type": "stream",
     "text": [
      "La Lomota\n",
      "None\n",
      "None\n",
      "Las palomas\n",
      "None\n",
      "None\n",
      "None\n",
      "None\n",
      "Ensanche Roman\n",
      "Buenos Aires\n",
      "Altos de Rafey\n",
      "Altos de Rafey\n",
      "None\n",
      "Villa Verde\n",
      "Altos de Rafey\n",
      "Ensanche Roman\n",
      "Buenos Aires\n",
      "Altos de Rafey\n",
      "Altos de Rafey\n",
      "Urbanización Fernando Valerio\n",
      "Urbanización Fernando Valerio\n",
      "El Embrujo III\n"
     ]
    }
   ],
   "source": [
    "for a in address:\n",
    "    print a.location"
   ]
  },
  {
   "cell_type": "code",
   "execution_count": 1,
   "metadata": {
    "collapsed": true
   },
   "outputs": [],
   "source": [
    "from members.models import Member"
   ]
  },
  {
   "cell_type": "code",
   "execution_count": 20,
   "metadata": {
    "collapsed": false
   },
   "outputs": [],
   "source": [
    "mi_lista = Member._meta.get_all_field_names()"
   ]
  },
  {
   "cell_type": "code",
   "execution_count": 21,
   "metadata": {
    "collapsed": true
   },
   "outputs": [],
   "source": [
    "mi_lista.sort()"
   ]
  },
  {
   "cell_type": "code",
   "execution_count": 22,
   "metadata": {
    "collapsed": false
   },
   "outputs": [
    {
     "data": {
      "text/plain": [
       "['academic_level',\n",
       " u'academic_level_id',\n",
       " 'age',\n",
       " 'appointment',\n",
       " 'birthday',\n",
       " 'cane_number',\n",
       " u'cane_number_id',\n",
       " 'children_quantity',\n",
       " 'created',\n",
       " 'created_by',\n",
       " u'created_by_id',\n",
       " 'created_with_session_key',\n",
       " 'currently_works',\n",
       " 'dependent_of',\n",
       " u'dependent_of_id',\n",
       " 'diagnosis',\n",
       " 'document_id',\n",
       " 'document_type',\n",
       " u'document_type_id',\n",
       " 'email',\n",
       " 'father_last_name',\n",
       " 'gender',\n",
       " 'health_insurance',\n",
       " 'house',\n",
       " u'id',\n",
       " 'is_mother',\n",
       " 'kinship',\n",
       " u'kinship_id',\n",
       " 'main_location',\n",
       " u'main_location_id',\n",
       " 'marital_status',\n",
       " u'marital_status_id',\n",
       " 'member_number',\n",
       " 'modified',\n",
       " 'modified_by',\n",
       " u'modified_by_id',\n",
       " 'modified_with_session_key',\n",
       " 'mother_last_name',\n",
       " 'names',\n",
       " 'nationality',\n",
       " u'nationality_id',\n",
       " 'observations',\n",
       " 'occupation',\n",
       " 'person',\n",
       " u'person_ptr',\n",
       " u'person_ptr_id',\n",
       " 'person_type',\n",
       " u'person_type_id',\n",
       " 'personaddress',\n",
       " 'personphone',\n",
       " 'picture',\n",
       " 'status',\n",
       " 'where_work']"
      ]
     },
     "execution_count": 22,
     "metadata": {},
     "output_type": "execute_result"
    }
   ],
   "source": [
    "mi_lista"
   ]
  },
  {
   "cell_type": "code",
   "execution_count": 23,
   "metadata": {
    "collapsed": false
   },
   "outputs": [],
   "source": [
    "mi_lista.remove('picture')"
   ]
  },
  {
   "cell_type": "code",
   "execution_count": 24,
   "metadata": {
    "collapsed": false
   },
   "outputs": [
    {
     "data": {
      "text/plain": [
       "['academic_level',\n",
       " u'academic_level_id',\n",
       " 'age',\n",
       " 'appointment',\n",
       " 'birthday',\n",
       " 'cane_number',\n",
       " u'cane_number_id',\n",
       " 'children_quantity',\n",
       " 'created',\n",
       " 'created_by',\n",
       " u'created_by_id',\n",
       " 'created_with_session_key',\n",
       " 'currently_works',\n",
       " 'dependent_of',\n",
       " u'dependent_of_id',\n",
       " 'diagnosis',\n",
       " 'document_id',\n",
       " 'document_type',\n",
       " u'document_type_id',\n",
       " 'email',\n",
       " 'father_last_name',\n",
       " 'gender',\n",
       " 'health_insurance',\n",
       " 'house',\n",
       " u'id',\n",
       " 'is_mother',\n",
       " 'kinship',\n",
       " u'kinship_id',\n",
       " 'main_location',\n",
       " u'main_location_id',\n",
       " 'marital_status',\n",
       " u'marital_status_id',\n",
       " 'member_number',\n",
       " 'modified',\n",
       " 'modified_by',\n",
       " u'modified_by_id',\n",
       " 'modified_with_session_key',\n",
       " 'mother_last_name',\n",
       " 'names',\n",
       " 'nationality',\n",
       " u'nationality_id',\n",
       " 'observations',\n",
       " 'occupation',\n",
       " 'person',\n",
       " u'person_ptr',\n",
       " u'person_ptr_id',\n",
       " 'person_type',\n",
       " u'person_type_id',\n",
       " 'personaddress',\n",
       " 'personphone',\n",
       " 'status',\n",
       " 'where_work']"
      ]
     },
     "execution_count": 24,
     "metadata": {},
     "output_type": "execute_result"
    }
   ],
   "source": [
    "mi_lista"
   ]
  },
  {
   "cell_type": "code",
   "execution_count": 26,
   "metadata": {
    "collapsed": false
   },
   "outputs": [],
   "source": [
    "my_list = [1, 2, 3]"
   ]
  },
  {
   "cell_type": "code",
   "execution_count": 27,
   "metadata": {
    "collapsed": true
   },
   "outputs": [],
   "source": [
    "new_list = my_list.append(4)"
   ]
  },
  {
   "cell_type": "code",
   "execution_count": 28,
   "metadata": {
    "collapsed": false
   },
   "outputs": [
    {
     "name": "stdout",
     "output_type": "stream",
     "text": [
      "[1, 2, 3, 4] None\n"
     ]
    }
   ],
   "source": [
    "print my_list, new_list"
   ]
  },
  {
   "cell_type": "code",
   "execution_count": null,
   "metadata": {
    "collapsed": true
   },
   "outputs": [],
   "source": []
  }
 ],
 "metadata": {
  "kernelspec": {
   "display_name": "Django Shell-Plus",
   "language": "python",
   "name": "django_extensions"
  },
  "language_info": {
   "codemirror_mode": {
    "name": "ipython",
    "version": 2
   },
   "file_extension": ".py",
   "mimetype": "text/x-python",
   "name": "python",
   "nbconvert_exporter": "python",
   "pygments_lexer": "ipython2",
   "version": "2.7.12"
  }
 },
 "nbformat": 4,
 "nbformat_minor": 2
}
