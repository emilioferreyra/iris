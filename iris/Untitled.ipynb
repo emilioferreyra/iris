{
 "cells": [
  {
   "cell_type": "markdown",
   "metadata": {},
   "source": [
    "# Probando Django en Jupyter Notebook"
   ]
  },
  {
   "cell_type": "code",
   "execution_count": 3,
   "metadata": {
    "collapsed": false
   },
   "outputs": [],
   "source": [
    "from people.models import Person"
   ]
  },
  {
   "cell_type": "code",
   "execution_count": 6,
   "metadata": {
    "collapsed": false
   },
   "outputs": [
    {
     "data": {
      "text/plain": [
       "[<Person: Juan Manuel De la Rosa >, <Person: Angel Manuel Rodriguez >, <Person: María José Rosario Almonte>, <Person: Juana María Santos >, <Person: José Ramón Contreras >, <Person: Alejandro Martinez >]"
      ]
     },
     "execution_count": 6,
     "metadata": {},
     "output_type": "execute_result"
    }
   ],
   "source": [
    "Person.employees.all()"
   ]
  },
  {
   "cell_type": "code",
   "execution_count": 7,
   "metadata": {
    "collapsed": true
   },
   "outputs": [],
   "source": [
    "employees = Person.employees.all()"
   ]
  },
  {
   "cell_type": "code",
   "execution_count": 13,
   "metadata": {
    "collapsed": false
   },
   "outputs": [
    {
     "name": "stdout",
     "output_type": "stream",
     "text": [
      "1 Juan Manuel De la Rosa \n",
      "2 Angel Manuel Rodriguez \n",
      "3 María José Rosario Almonte\n",
      "4 Juana María Santos \n",
      "5 José Ramón Contreras \n",
      "6 Alejandro Martinez \n"
     ]
    }
   ],
   "source": [
    "for x, e in enumerate(employees):\n",
    "    print x+1, e"
   ]
  },
  {
   "cell_type": "code",
   "execution_count": 14,
   "metadata": {
    "collapsed": true
   },
   "outputs": [],
   "source": [
    "members = Person.members.all()"
   ]
  },
  {
   "cell_type": "code",
   "execution_count": 15,
   "metadata": {
    "collapsed": false
   },
   "outputs": [
    {
     "name": "stdout",
     "output_type": "stream",
     "text": [
      "1 Ramona Altagracia Contreras \n",
      "2 Pablo García \n",
      "3 Amalfy Eugenia Mendosa \n",
      "4 Vladimir Oscar Gonzalez \n",
      "5 Víctor Manuel Ceballos \n",
      "6 Marcos Eugenio Mendez \n",
      "7 Gloria María Encarnación \n",
      "8 Rosa Emilia Perez Martinez\n",
      "9 Cristina María Fernandez \n",
      "10 Marta Santos \n",
      "11 Wanda Gonzalez \n",
      "12 Orfilia Diaz \n"
     ]
    }
   ],
   "source": [
    "for x, m in enumerate(members):\n",
    "    print x+1, m"
   ]
  },
  {
   "cell_type": "code",
   "execution_count": 16,
   "metadata": {
    "collapsed": false
   },
   "outputs": [
    {
     "name": "stdout",
     "output_type": "stream",
     "text": [
      "1 3 Ramona Altagracia Contreras \n",
      "2 11 Pablo García \n",
      "3 15 Amalfy Eugenia Mendosa \n",
      "4 22 Vladimir Oscar Gonzalez \n",
      "5 23 Víctor Manuel Ceballos \n",
      "6 24 Marcos Eugenio Mendez \n",
      "7 27 Gloria María Encarnación \n",
      "8 29 Rosa Emilia Perez Martinez\n",
      "9 31 Cristina María Fernandez \n",
      "10 33 Marta Santos \n",
      "11 35 Wanda Gonzalez \n",
      "12 38 Orfilia Diaz \n"
     ]
    }
   ],
   "source": [
    "for x, m in enumerate(members):\n",
    "    print x+1, m.id, m"
   ]
  },
  {
   "cell_type": "code",
   "execution_count": null,
   "metadata": {
    "collapsed": true
   },
   "outputs": [],
   "source": []
  }
 ],
 "metadata": {
  "kernelspec": {
   "display_name": "Django Shell-Plus",
   "language": "python",
   "name": "django_extensions"
  },
  "language_info": {
   "codemirror_mode": {
    "name": "ipython",
    "version": 2
   },
   "file_extension": ".py",
   "mimetype": "text/x-python",
   "name": "python",
   "nbconvert_exporter": "python",
   "pygments_lexer": "ipython2",
   "version": "2.7.11+"
  }
 },
 "nbformat": 4,
 "nbformat_minor": 0
}
