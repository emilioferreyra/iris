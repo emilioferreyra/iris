{
 "cells": [
  {
   "cell_type": "code",
   "execution_count": 1,
   "metadata": {
    "collapsed": true
   },
   "outputs": [],
   "source": [
    "from people.models import PersonAddress"
   ]
  },
  {
   "cell_type": "code",
   "execution_count": 2,
   "metadata": {
    "collapsed": true
   },
   "outputs": [],
   "source": [
    "address = PersonAddress.objects.all()"
   ]
  },
  {
   "cell_type": "code",
   "execution_count": 5,
   "metadata": {
    "collapsed": false
   },
   "outputs": [
    {
     "name": "stdout",
     "output_type": "stream",
     "text": [
      "La Lomota\n",
      "None\n",
      "None\n",
      "Las palomas\n",
      "None\n",
      "None\n",
      "None\n",
      "None\n",
      "Ensanche Roman\n",
      "Buenos Aires\n",
      "Altos de Rafey\n",
      "Altos de Rafey\n",
      "None\n",
      "Villa Verde\n",
      "Altos de Rafey\n",
      "Ensanche Roman\n",
      "Buenos Aires\n",
      "Altos de Rafey\n",
      "Altos de Rafey\n",
      "Urbanización Fernando Valerio\n",
      "Urbanización Fernando Valerio\n",
      "El Embrujo III\n"
     ]
    }
   ],
   "source": [
    "for a in address:\n",
    "    print a.location"
   ]
  },
  {
   "cell_type": "code",
   "execution_count": null,
   "metadata": {
    "collapsed": true
   },
   "outputs": [],
   "source": []
  }
 ],
 "metadata": {
  "kernelspec": {
   "display_name": "Django Shell-Plus",
   "language": "python",
   "name": "django_extensions"
  },
  "language_info": {
   "codemirror_mode": {
    "name": "ipython",
    "version": 2
   },
   "file_extension": ".py",
   "mimetype": "text/x-python",
   "name": "python",
   "nbconvert_exporter": "python",
   "pygments_lexer": "ipython2",
   "version": "2.7.12"
  }
 },
 "nbformat": 4,
 "nbformat_minor": 2
}
